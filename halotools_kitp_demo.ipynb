{
 "cells": [
  {
   "cell_type": "markdown",
   "metadata": {},
   "source": [
    "# Halotools Demo"
   ]
  },
  {
   "cell_type": "code",
   "execution_count": 1,
   "metadata": {},
   "outputs": [],
   "source": [
    "%matplotlib inline"
   ]
  },
  {
   "cell_type": "markdown",
   "metadata": {},
   "source": [
    "## Working with halo catalogs"
   ]
  },
  {
   "cell_type": "markdown",
   "metadata": {},
   "source": [
    "Halotools keeps a persistent memory of your halo catalogs. You can access any snapshot in your cache as follows:"
   ]
  },
  {
   "cell_type": "code",
   "execution_count": 2,
   "metadata": {},
   "outputs": [],
   "source": [
    "from halotools.sim_manager import CachedHaloCatalog\n",
    "halocat = CachedHaloCatalog(simname = 'bolshoi', redshift = 0)"
   ]
  },
  {
   "cell_type": "markdown",
   "metadata": {},
   "source": [
    "Tabular data storing the actual halo information is stored in the `halo_table` attribute:"
   ]
  },
  {
   "cell_type": "code",
   "execution_count": 3,
   "metadata": {},
   "outputs": [
    {
     "name": "stdout",
     "output_type": "stream",
     "text": [
      "halo_vmax_firstacc halo_dmvir_dt_tdyn ... halo_hostid halo_mvir_host_halo\n",
      "------------------ ------------------ ... ----------- -------------------\n",
      "            952.39            10670.0 ...  3060299107           1.643e+14\n",
      "            823.11            12860.0 ...  3060312953           1.589e+14\n",
      "            799.42             5633.0 ...  3058440575           1.144e+14\n",
      "            679.37            14900.0 ...  3058441456           9.709e+13\n",
      "            735.68             3519.0 ...  3058452345           8.527e+13\n",
      "            696.86             6331.0 ...  3058463669           8.426e+13\n",
      "            681.43             5579.0 ...  3058683023           8.357e+13\n",
      "            668.98             5497.0 ...  3060115960           7.795e+13\n",
      "            654.46             8205.0 ...  3058477222           7.284e+13\n"
     ]
    }
   ],
   "source": [
    "print(halocat.halo_table[0:9])"
   ]
  },
  {
   "cell_type": "markdown",
   "metadata": {},
   "source": [
    "There is also extensive metadata bound to all cached halo catalogs. For example, the `processing_notes` attribute stores a plain-language description of how the initial halo catalog was reduced:"
   ]
  },
  {
   "cell_type": "code",
   "execution_count": 4,
   "metadata": {},
   "outputs": [
    {
     "name": "stdout",
     "output_type": "stream",
     "text": [
      "Catalog only contains (sub)halos with Mpeak greater than 300 particles. The following columns have been divided by 1000 to convert them from the kpc/h units provided in the original ASCII source to the Mpc/h units assumed by Halotools:  halo_rvir, halo_rs, halo_xoff\n"
     ]
    }
   ],
   "source": [
    "print(halocat.processing_notes)"
   ]
  },
  {
   "cell_type": "markdown",
   "metadata": {},
   "source": [
    "## What is the NFW concentration of a Milky Way halo?"
   ]
  },
  {
   "cell_type": "code",
   "execution_count": 5,
   "metadata": {},
   "outputs": [],
   "source": [
    "milky_way_mask = ((halocat.halo_table['halo_upid'] == -1) & \n",
    "                  (halocat.halo_table['halo_mpeak'] > 1e12) & \n",
    "                  (halocat.halo_table['halo_mpeak'] < 2e12)\n",
    "                  )"
   ]
  },
  {
   "cell_type": "code",
   "execution_count": 6,
   "metadata": {},
   "outputs": [],
   "source": [
    "milky_way_halos = halocat.halo_table[milky_way_mask]"
   ]
  },
  {
   "cell_type": "code",
   "execution_count": 7,
   "metadata": {},
   "outputs": [
    {
     "data": {
      "image/png": "[encoded data removed]",
      "text/plain": [
       "<matplotlib.figure.Figure at 0x10a0585d0>"
      ]
     },
     "metadata": {},
     "output_type": "display_data"
    }
   ],
   "source": [
    "fig, ax = plt.subplots(1, 1)\n",
    "\n",
    "__=ax.hist(milky_way_halos['halo_nfw_conc'],\n",
    "           bins = np.linspace(0, 20, 50), normed=True)\n",
    "xlabel = ax.set_xlabel('Concentration', size=15)\n",
    "title = ax.set_title(r'$M_{\\rm peak}(z=0)\\approx10^{12}M_{\\odot}$', size=15)"
   ]
  },
  {
   "cell_type": "markdown",
   "metadata": {},
   "source": [
    "## Populating halo catalogs with mock galaxies "
   ]
  },
  {
   "cell_type": "markdown",
   "metadata": {},
   "source": [
    "Halotools ships with a handful of pre-built galaxy-halo models, each of which is an implementation of some specific publication in the literature. "
   ]
  },
  {
   "cell_type": "code",
   "execution_count": 8,
   "metadata": {},
   "outputs": [],
   "source": [
    "from halotools.empirical_models import PrebuiltSubhaloModelFactory\n",
    "model = PrebuiltSubhaloModelFactory('behroozi10', redshift=0)"
   ]
  },
  {
   "cell_type": "markdown",
   "metadata": {},
   "source": [
    "All Halotools models have a `populate_mock` method that creates a Monte Carlo realization of a galaxy population based on the model. The syntax is the same regardless of the features of the model. "
   ]
  },
  {
   "cell_type": "code",
   "execution_count": 9,
   "metadata": {},
   "outputs": [],
   "source": [
    "model.populate_mock(halocat)"
   ]
  },
  {
   "cell_type": "markdown",
   "metadata": {},
   "source": [
    "Calling the `populate_mock` method creates a `mock` attribute. You can access the galaxies in the mock via the `galaxy_table` attribute:"
   ]
  },
  {
   "cell_type": "code",
   "execution_count": 10,
   "metadata": {},
   "outputs": [
    {
     "name": "stdout",
     "output_type": "stream",
     "text": [
      "halo_upid halo_hostid halo_mpeak  halo_x ...   vy      vz   galid stellar_mass\n",
      "--------- ----------- ---------- ------- ... ------ ------- ----- ------------\n",
      "       -1  3060299107  1.643e+14  35.725 ... -34.49  -82.51     0   2.1798e+11\n",
      "       -1  3060312953  1.589e+14 45.2089 ... 264.96 -132.11     1  1.09793e+11\n",
      "       -1  3058440575  1.144e+14  21.812 ... 104.38  -61.29     2  1.01855e+11\n",
      "       -1  3058441456  9.709e+13 26.1803 ...  78.85  423.44     3  1.12726e+11\n",
      "       -1  3058452345  8.527e+13 1.74397 ... 238.52  179.34     4  7.97116e+10\n",
      "       -1  3058463669  8.439e+13 10.2739 ... 186.67 -187.27     5  1.59603e+11\n",
      "       -1  3058683023  8.357e+13 12.0235 ... -77.55 -386.58     6  1.72298e+11\n",
      "       -1  3060115960  7.795e+13 45.8238 ... 179.51   64.62     7  7.77795e+10\n",
      "       -1  3058477222  7.284e+13 14.5065 ... 239.24 -397.53     8  1.03389e+11\n"
     ]
    }
   ],
   "source": [
    "print(model.mock.galaxy_table[0:9])"
   ]
  },
  {
   "cell_type": "markdown",
   "metadata": {},
   "source": [
    "## What is the stellar mass of a Milky Way halo?"
   ]
  },
  {
   "cell_type": "code",
   "execution_count": 11,
   "metadata": {},
   "outputs": [],
   "source": [
    "milky_way_central_mask = ((model.mock.galaxy_table['halo_upid'] == -1) & \n",
    "                  (model.mock.galaxy_table['halo_mpeak'] > 1e12) & \n",
    "                  (model.mock.galaxy_table['halo_mpeak'] < 2e12)\n",
    "                  )\n",
    "milky_way_centrals = model.mock.galaxy_table[milky_way_central_mask]"
   ]
  },
  {
   "cell_type": "code",
   "execution_count": 12,
   "metadata": {},
   "outputs": [
    {
     "data": {
      "image/png": "[encoded data removed]",
      "text/plain": [
       "<matplotlib.figure.Figure at 0x121f50110>"
      ]
     },
     "metadata": {},
     "output_type": "display_data"
    }
   ],
   "source": [
    "fig, ax = plt.subplots(1, 1)\n",
    "\n",
    "__=ax.hist(np.log10(milky_way_centrals['stellar_mass']), \n",
    "           bins = np.linspace(9.5, 11.25, 50), normed=True)"
   ]
  },
  {
   "cell_type": "code",
   "execution_count": 13,
   "metadata": {},
   "outputs": [
    {
     "data": {
      "image/png": "[encoded data removed]",
      "text/plain": [
       "<matplotlib.figure.Figure at 0x1222eeb90>"
      ]
     },
     "metadata": {},
     "output_type": "display_data"
    }
   ],
   "source": [
    "fig, ax = plt.subplots(1, 1)\n",
    "\n",
    "ax.loglog()\n",
    "\n",
    "x = np.logspace(10, 15, 100)\n",
    "y = model.mean_stellar_mass(prim_haloprop = x)\n",
    "\n",
    "__=ax.plot(x, y, label = 'Behroozi10')\n",
    "\n",
    "xlabel = ax.set_xlabel('Halo Mass', size=20)\n",
    "ylabel = ax.set_ylabel('Stellar mass', size=20)"
   ]
  },
  {
   "cell_type": "markdown",
   "metadata": {},
   "source": [
    "## Counting cluster satellites"
   ]
  },
  {
   "cell_type": "code",
   "execution_count": 14,
   "metadata": {},
   "outputs": [],
   "source": [
    "from halotools.utils import group_member_generator"
   ]
  },
  {
   "cell_type": "code",
   "execution_count": 15,
   "metadata": {},
   "outputs": [],
   "source": [
    "sample_mask = model.mock.galaxy_table['stellar_mass'] > 5e9\n",
    "sample = model.mock.galaxy_table[sample_mask]"
   ]
  },
  {
   "cell_type": "code",
   "execution_count": 16,
   "metadata": {},
   "outputs": [],
   "source": [
    "sample.sort(['halo_hostid', 'halo_upid'])\n",
    "gen = group_member_generator(sample, 'halo_hostid', [])\n",
    "\n",
    "richness = np.zeros(len(sample), dtype = int)\n",
    "for istart, iend, member_props in gen:\n",
    "    richness[istart:iend] = iend-istart-1"
   ]
  },
  {
   "cell_type": "code",
   "execution_count": 17,
   "metadata": {},
   "outputs": [],
   "source": [
    "sample['num_satellites'] = richness"
   ]
  },
  {
   "cell_type": "code",
   "execution_count": 18,
   "metadata": {},
   "outputs": [],
   "source": [
    "cluster_mask = ((sample['halo_upid'] == -1) & \n",
    "                  (sample['halo_mpeak'] > 1e14))\n",
    "clusters = sample[cluster_mask]"
   ]
  },
  {
   "cell_type": "code",
   "execution_count": 19,
   "metadata": {},
   "outputs": [
    {
     "data": {
      "image/png": "[encoded data removed]",
      "text/plain": [
       "<matplotlib.figure.Figure at 0x1222e3290>"
      ]
     },
     "metadata": {},
     "output_type": "display_data"
    }
   ],
   "source": [
    "fig, ax = plt.subplots(1, 1)\n",
    "\n",
    "__=ax.hist(clusters['num_satellites'], bins = np.logspace(0, 2, 20))\n",
    "__=ax.set_xlabel('Number of satellites', size = 15)\n",
    "__=ax.set_title('Satellite counts in cluster-mass halos', size=15)"
   ]
  },
  {
   "cell_type": "markdown",
   "metadata": {},
   "source": [
    "## Calculating two-point clustering"
   ]
  },
  {
   "cell_type": "code",
   "execution_count": 20,
   "metadata": {},
   "outputs": [],
   "source": [
    "from halotools.mock_observables import tpcf, return_xyz_formatted_array"
   ]
  },
  {
   "cell_type": "code",
   "execution_count": 21,
   "metadata": {},
   "outputs": [],
   "source": [
    "mask1 = ((model.mock.galaxy_table['stellar_mass'] > 5e9) & \n",
    "         (model.mock.galaxy_table['stellar_mass'] < 1e10))\n",
    "s1 = model.mock.galaxy_table[mask1]\n",
    "mask2 = ((model.mock.galaxy_table['stellar_mass'] > 5e10) & \n",
    "         (model.mock.galaxy_table['stellar_mass'] < 1e11))\n",
    "s2 = model.mock.galaxy_table[mask2]\n",
    "mask3 = ((model.mock.galaxy_table['stellar_mass'] > 1e11) & \n",
    "         (model.mock.galaxy_table['stellar_mass'] < 1e12))\n",
    "s3 = model.mock.galaxy_table[mask3]"
   ]
  },
  {
   "cell_type": "code",
   "execution_count": 22,
   "metadata": {},
   "outputs": [],
   "source": [
    "pos1 = return_xyz_formatted_array(s1['x'], s1['y'], s1['z'])\n",
    "pos2 = return_xyz_formatted_array(s2['x'], s2['y'], s2['z'])\n",
    "pos3 = return_xyz_formatted_array(s3['x'], s3['y'], s3['z'])"
   ]
  },
  {
   "cell_type": "code",
   "execution_count": 23,
   "metadata": {},
   "outputs": [],
   "source": [
    "rbins = np.logspace(-1, 1.25, 15)\n",
    "r = (rbins[1:] + rbins[:-1])/2."
   ]
  },
  {
   "cell_type": "code",
   "execution_count": 24,
   "metadata": {},
   "outputs": [],
   "source": [
    "xi1 = tpcf(pos1, rbins, period = model.mock.Lbox, num_threads = 'max')"
   ]
  },
  {
   "cell_type": "code",
   "execution_count": 25,
   "metadata": {},
   "outputs": [],
   "source": [
    "xi2 = tpcf(pos2, rbins, period = model.mock.Lbox, num_threads = 'max')"
   ]
  },
  {
   "cell_type": "code",
   "execution_count": 26,
   "metadata": {},
   "outputs": [],
   "source": [
    "xi3 = tpcf(pos3, rbins, period = model.mock.Lbox, num_threads = 'max')"
   ]
  },
  {
   "cell_type": "code",
   "execution_count": 27,
   "metadata": {},
   "outputs": [
    {
     "data": {
      "image/png": "[encoded data removed]",
      "text/plain": [
       "<matplotlib.figure.Figure at 0x1272f4090>"
      ]
     },
     "metadata": {},
     "output_type": "display_data"
    }
   ],
   "source": [
    "fig, ax = plt.subplots(1, 1)\n",
    "\n",
    "ax.loglog()\n",
    "\n",
    "__=ax.plot(r, xi3, \n",
    "         label=r'$11 < \\log_{10}(M_{\\ast}/M_{\\odot}) < 12$', color='red')\n",
    "__=ax.plot(r, xi2, \n",
    "         label=r'$10.5 < \\log_{10}(M_{\\ast}/M_{\\odot}) < 11$', color='green')\n",
    "__=ax.plot(r, xi1, \n",
    "         label=r'$9.5 < \\log_{10}(M_{\\ast}/M_{\\odot}) < 10$', color='blue')\n",
    "\n",
    "\n",
    "xlabel = ax.set_xlabel(r'$r  $  $[{\\rm Mpc}/h]$', size=15)\n",
    "ylabel = ax.set_ylabel(r'$\\xi_{\\rm gg}(r)$', size=15)\n",
    "\n",
    "plt.legend(loc='best', fontsize = 14)\n",
    "title = ax.set_title(r'$M_{\\ast}-$dependence of galaxy clustering', size=15)"
   ]
  },
  {
   "cell_type": "code",
   "execution_count": 28,
   "metadata": {},
   "outputs": [],
   "source": [
    "from halotools.mock_observables import tpcf_one_two_halo_decomp "
   ]
  },
  {
   "cell_type": "code",
   "execution_count": 29,
   "metadata": {},
   "outputs": [],
   "source": [
    "host_halo_IDs = model.mock.galaxy_table['halo_hostid'][mask1]"
   ]
  },
  {
   "cell_type": "code",
   "execution_count": 30,
   "metadata": {},
   "outputs": [],
   "source": [
    "xi_1h, xi_2h = tpcf_one_two_halo_decomp(pos1, host_halo_IDs, rbins, \n",
    "                                        period=model.mock.Lbox, num_threads = 'max')"
   ]
  },
  {
   "cell_type": "code",
   "execution_count": 31,
   "metadata": {},
   "outputs": [
    {
     "data": {
      "image/png": "[encoded data removed]",
      "text/plain": [
       "<matplotlib.figure.Figure at 0x123ccc510>"
      ]
     },
     "metadata": {},
     "output_type": "display_data"
    }
   ],
   "source": [
    "fig, ax = plt.subplots(1, 1)\n",
    "\n",
    "ax.loglog()\n",
    "\n",
    "__=ax.plot(r, xi_1h, label='1-halo term', color='red')\n",
    "__=ax.plot(r, xi1, \n",
    "         label='All', color='green')\n",
    "__=ax.plot(r, xi_2h, label='2-halo term', color='blue')\n",
    "\n",
    "\n",
    "xlabel = ax.set_xlabel(r'$r  $  $[{\\rm Mpc}/h]$', fontsize=15)\n",
    "ylabel = ax.set_ylabel(r'$\\xi_{\\rm gg}(r)$', fontsize=15)\n",
    "\n",
    "plt.legend(loc='best', fontsize = 14)\n",
    "title = ax.set_title('1-halo vs. 2-halo decomposition', size=15)"
   ]
  },
  {
   "cell_type": "markdown",
   "metadata": {},
   "source": [
    "## Example of how to build your own model: Galaxy sizes"
   ]
  },
  {
   "cell_type": "markdown",
   "metadata": {},
   "source": [
    "One of the core features of Halotools is to provide a generalized platform you can use to build models of the galaxy-halo connection. The code is built around a factory design pattern: you choose a set of features you are interested in modeling, you pass a set of *component models* to the factory, and the factory returns a *composite model* that can be used to directly populate halo catalogs with galaxies. "
   ]
  },
  {
   "cell_type": "markdown",
   "metadata": {},
   "source": [
    "### Define a model for the size of a galaxy"
   ]
  },
  {
   "cell_type": "code",
   "execution_count": 32,
   "metadata": {},
   "outputs": [],
   "source": [
    "class Size(object):\n",
    "\n",
    "    def __init__(self):\n",
    "\n",
    "        self._mock_generation_calling_sequence = ['assign_size']\n",
    "        self._galprop_dtypes_to_allocate = np.dtype([('galsize', 'f4')])\n",
    "        self.list_of_haloprops_needed = ['halo_spin']\n",
    "        self.param_dict = {'spin_to_size_ratio': 5.}\n",
    "\n",
    "    def assign_size(self, **kwargs):\n",
    "        table = kwargs['table']\n",
    "        table['galsize'][:] = table['halo_spin']/self.param_dict['spin_to_size_ratio']"
   ]
  },
  {
   "cell_type": "code",
   "execution_count": 33,
   "metadata": {},
   "outputs": [],
   "source": [
    "galaxy_size = Size()"
   ]
  },
  {
   "cell_type": "markdown",
   "metadata": {},
   "source": [
    "### Choose a baseline pre-built model "
   ]
  },
  {
   "cell_type": "code",
   "execution_count": 34,
   "metadata": {},
   "outputs": [],
   "source": [
    "from halotools.empirical_models import PrebuiltSubhaloModelFactory\n",
    "behroozi10_model = PrebuiltSubhaloModelFactory('behroozi10')"
   ]
  },
  {
   "cell_type": "markdown",
   "metadata": {},
   "source": [
    "### Now use the factory to add the new `size` feature onto the baseline model:"
   ]
  },
  {
   "cell_type": "code",
   "execution_count": 35,
   "metadata": {},
   "outputs": [],
   "source": [
    "from halotools.empirical_models import SubhaloModelFactory"
   ]
  },
  {
   "cell_type": "code",
   "execution_count": 36,
   "metadata": {},
   "outputs": [],
   "source": [
    "new_model = SubhaloModelFactory(baseline_model_instance = behroozi10_model,\n",
    "                            size = galaxy_size)"
   ]
  },
  {
   "cell_type": "markdown",
   "metadata": {},
   "source": [
    "### Your new model can generate a mock with the same syntax"
   ]
  },
  {
   "cell_type": "code",
   "execution_count": 37,
   "metadata": {},
   "outputs": [],
   "source": [
    "new_model.populate_mock(halocat)"
   ]
  },
  {
   "cell_type": "markdown",
   "metadata": {},
   "source": [
    "The model has a set of parameters controlling the behavior"
   ]
  },
  {
   "cell_type": "code",
   "execution_count": 38,
   "metadata": {},
   "outputs": [
    {
     "data": {
      "text/plain": [
       "{u'scatter_model_param1': 0.2,\n",
       " u'smhm_beta_0': 0.43,\n",
       " u'smhm_beta_a': 0.18,\n",
       " u'smhm_delta_0': 0.56,\n",
       " u'smhm_delta_a': 0.18,\n",
       " u'smhm_gamma_0': 1.54,\n",
       " u'smhm_gamma_a': 2.52,\n",
       " u'smhm_m0_0': 10.72,\n",
       " u'smhm_m0_a': 0.59,\n",
       " u'smhm_m1_0': 12.35,\n",
       " u'smhm_m1_a': 0.3,\n",
       " 'spin_to_size_ratio': 5.0}"
      ]
     },
     "execution_count": 38,
     "metadata": {},
     "output_type": "execute_result"
    }
   ],
   "source": [
    "new_model.param_dict"
   ]
  },
  {
   "cell_type": "markdown",
   "metadata": {},
   "source": [
    "If you change the values of these parameters, and repopulate the snapshot, you will get a universe with different properties. "
   ]
  },
  {
   "cell_type": "code",
   "execution_count": 39,
   "metadata": {},
   "outputs": [],
   "source": [
    "new_model.param_dict['spin_to_size_ratio'] = 4.0"
   ]
  },
  {
   "cell_type": "code",
   "execution_count": 40,
   "metadata": {},
   "outputs": [],
   "source": [
    "new_model.mock.populate()"
   ]
  },
  {
   "cell_type": "markdown",
   "metadata": {},
   "source": [
    "Notice that once the mock is built the first time, you now use the `populate` method of the `mock` object, which saves lots of pre-processing time that only needs to be done once. "
   ]
  },
  {
   "cell_type": "code",
   "execution_count": 41,
   "metadata": {},
   "outputs": [
    {
     "name": "stdout",
     "output_type": "stream",
     "text": [
      "1 loop, best of 3: 261 ms per loop\n"
     ]
    }
   ],
   "source": [
    "%timeit new_model.mock.populate()"
   ]
  },
  {
   "cell_type": "markdown",
   "metadata": {},
   "source": [
    "## Example of how to build your own model: HOD with subhalo information"
   ]
  },
  {
   "cell_type": "code",
   "execution_count": 42,
   "metadata": {},
   "outputs": [
    {
     "name": "stdout",
     "output_type": "stream",
     "text": [
      "(u'centrals_occupation', 'Leauthaud11Cens')\n",
      "(u'satellites_occupation', 'Leauthaud11Sats')\n",
      "(u'centrals_profile', 'TrivialPhaseSpace')\n",
      "(u'satellites_profile', 'NFWPhaseSpace')\n"
     ]
    }
   ],
   "source": [
    "from halotools.empirical_models import PrebuiltHodModelFactory\n",
    "model = PrebuiltHodModelFactory('leauthaud11', redshift=0)\n",
    "\n",
    "for key in model.model_dictionary:\n",
    "    print(key, model.model_dictionary[key].__class__.__name__)"
   ]
  },
  {
   "cell_type": "code",
   "execution_count": 43,
   "metadata": {
    "collapsed": true
   },
   "outputs": [],
   "source": [
    "model.populate_mock(halocat)"
   ]
  },
  {
   "cell_type": "code",
   "execution_count": 44,
   "metadata": {
    "collapsed": true
   },
   "outputs": [],
   "source": [
    "model.mock.populate()"
   ]
  },
  {
   "cell_type": "code",
   "execution_count": 45,
   "metadata": {
    "collapsed": true
   },
   "outputs": [],
   "source": [
    "from halotools.empirical_models import SubhaloPhaseSpace\n",
    "\n",
    "gal_type = 'satellites'\n",
    "host_haloprop_bins = np.logspace(10.5, 15.1, 15)\n",
    "subhalo_profile_model = SubhaloPhaseSpace('satellites', host_haloprop_bins)"
   ]
  },
  {
   "cell_type": "code",
   "execution_count": 46,
   "metadata": {},
   "outputs": [],
   "source": [
    "from halotools.empirical_models import HodModelFactory\n",
    "\n",
    "new_model_dictionary = model.model_dictionary\n",
    "new_model_dictionary['satellites_profile'] = subhalo_profile_model\n",
    "\n",
    "new_model = HodModelFactory(**new_model_dictionary)"
   ]
  },
  {
   "cell_type": "code",
   "execution_count": 47,
   "metadata": {
    "collapsed": true
   },
   "outputs": [],
   "source": [
    "new_model.populate_mock(halocat)"
   ]
  },
  {
   "cell_type": "code",
   "execution_count": 48,
   "metadata": {
    "collapsed": true
   },
   "outputs": [],
   "source": [
    "new_model.mock.populate()"
   ]
  },
  {
   "cell_type": "code",
   "execution_count": null,
   "metadata": {
    "collapsed": true
   },
   "outputs": [],
   "source": []
  },
  {
   "cell_type": "code",
   "execution_count": null,
   "metadata": {
    "collapsed": true
   },
   "outputs": [],
   "source": []
  },
  {
   "cell_type": "code",
   "execution_count": null,
   "metadata": {
    "collapsed": true
   },
   "outputs": [],
   "source": []
  },
  {
   "cell_type": "code",
   "execution_count": null,
   "metadata": {
    "collapsed": true
   },
   "outputs": [],
   "source": []
  }
 ],
 "metadata": {
  "anaconda-cloud": {},
  "kernelspec": {
   "display_name": "Python [default]",
   "language": "python",
   "name": "python2"
  },
  "language_info": {
   "codemirror_mode": {
    "name": "ipython",
    "version": 2
   },
   "file_extension": ".py",
   "mimetype": "text/x-python",
   "name": "python",
   "nbconvert_exporter": "python",
   "pygments_lexer": "ipython2",
   "version": "2.7.13"
  }
 },
 "nbformat": 4,
 "nbformat_minor": 1
}
